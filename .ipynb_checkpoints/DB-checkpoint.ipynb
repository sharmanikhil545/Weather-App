{
 "cells": [
  {
   "cell_type": "code",
   "execution_count": 2,
   "id": "49ca90f2",
   "metadata": {
    "scrolled": true
   },
   "outputs": [
    {
     "name": "stdout",
     "output_type": "stream",
     "text": [
      "http://api.openweathermap.org/data/2.5/forecast?q=Toronto&appid=f2ec04587b7eda134ebb18204e69230c\n",
      "http://api.openweathermap.org/data/2.5/forecast?q=Waterloo&appid=f2ec04587b7eda134ebb18204e69230c\n",
      "http://api.openweathermap.org/data/2.5/forecast?q=Mississauga&appid=f2ec04587b7eda134ebb18204e69230c\n",
      "http://api.openweathermap.org/data/2.5/forecast?q=Kitchener&appid=f2ec04587b7eda134ebb18204e69230c\n",
      "http://api.openweathermap.org/data/2.5/forecast?q=Surrey&appid=f2ec04587b7eda134ebb18204e69230c\n",
      "http://api.openweathermap.org/data/2.5/forecast?q=edmonton&appid=f2ec04587b7eda134ebb18204e69230c\n",
      "http://api.openweathermap.org/data/2.5/forecast?q=nova scotia&appid=f2ec04587b7eda134ebb18204e69230c\n",
      "http://api.openweathermap.org/data/2.5/forecast?q=ottawa&appid=f2ec04587b7eda134ebb18204e69230c\n"
     ]
    }
   ],
   "source": [
    "# importing the requests library\n",
    "import requests\n",
    "import pandas as pd\n",
    "from flatten_json import flatten\n",
    "import json\n",
    "Country = ['Toronto', 'Waterloo', 'Mississauga', 'Kitchener',\n",
    "           'Surrey', 'edmonton', 'nova scotia', 'ottawa']\n",
    "result = []\n",
    "for i in range(len(Country)):\n",
    "    URL = \"http://api.openweathermap.org/data/2.5/forecast?q={}&appid=f2ec04587b7eda134ebb18204e69230c\".format(\n",
    "        Country[i])\n",
    "    print(URL)\n",
    "    # sending get request and saving the response as response object\n",
    "    r = requests.get(url=URL)\n",
    "    result.append(r.json())\n",
    "\n",
    "with open('result.json','w',encoding='utf-8') as f:\n",
    "    f.write(json.dumps(result,ensure_ascii=False))\n",
    "    \n",
    "with open('result.json','r') as f:\n",
    "    result = json.loads(f.read())\n",
    "df_nested_list_one = pd.json_normalize(result, record_path=['list'])\n",
    "df_nested_list_two = pd.json_normalize(result,record_path=['list','weather'],meta=['city'])"
   ]
  },
  {
   "cell_type": "code",
   "execution_count": 3,
   "id": "2e4880f4",
   "metadata": {},
   "outputs": [],
   "source": [
    "df = pd.concat([df_nested_list_one,df_nested_list_two.reindex(df_nested_list_one.index)],axis=1)"
   ]
  },
  {
   "cell_type": "code",
   "execution_count": 4,
   "id": "dac8614c",
   "metadata": {},
   "outputs": [
    {
     "name": "stdout",
     "output_type": "stream",
     "text": [
      "<class 'pandas.core.frame.DataFrame'>\n",
      "RangeIndex: 320 entries, 0 to 319\n",
      "Data columns (total 25 columns):\n",
      " #   Column           Non-Null Count  Dtype  \n",
      "---  ------           --------------  -----  \n",
      " 0   dt               320 non-null    int64  \n",
      " 1   weather          320 non-null    object \n",
      " 2   visibility       320 non-null    int64  \n",
      " 3   pop              320 non-null    float64\n",
      " 4   dt_txt           320 non-null    object \n",
      " 5   main.temp        320 non-null    float64\n",
      " 6   main.feels_like  320 non-null    float64\n",
      " 7   main.temp_min    320 non-null    float64\n",
      " 8   main.temp_max    320 non-null    float64\n",
      " 9   main.pressure    320 non-null    int64  \n",
      " 10  main.sea_level   320 non-null    int64  \n",
      " 11  main.grnd_level  320 non-null    int64  \n",
      " 12  main.humidity    320 non-null    int64  \n",
      " 13  main.temp_kf     320 non-null    float64\n",
      " 14  clouds.all       320 non-null    int64  \n",
      " 15  wind.speed       320 non-null    float64\n",
      " 16  wind.deg         320 non-null    int64  \n",
      " 17  wind.gust        320 non-null    float64\n",
      " 18  sys.pod          320 non-null    object \n",
      " 19  rain.3h          82 non-null     float64\n",
      " 20  id               320 non-null    int64  \n",
      " 21  main             320 non-null    object \n",
      " 22  description      320 non-null    object \n",
      " 23  icon             320 non-null    object \n",
      " 24  city             320 non-null    object \n",
      "dtypes: float64(9), int64(9), object(7)\n",
      "memory usage: 62.6+ KB\n"
     ]
    }
   ],
   "source": [
    "df.info()"
   ]
  },
  {
   "cell_type": "code",
   "execution_count": null,
   "id": "1311fb8b",
   "metadata": {},
   "outputs": [],
   "source": []
  }
 ],
 "metadata": {
  "kernelspec": {
   "display_name": "Python 3 (ipykernel)",
   "language": "python",
   "name": "python3"
  },
  "language_info": {
   "codemirror_mode": {
    "name": "ipython",
    "version": 3
   },
   "file_extension": ".py",
   "mimetype": "text/x-python",
   "name": "python",
   "nbconvert_exporter": "python",
   "pygments_lexer": "ipython3",
   "version": "3.10.4"
  },
  "vscode": {
   "interpreter": {
    "hash": "08630fa786b7def19c793e4d8240d3de72b5ea257b7a19182eb3d62118ce9e22"
   }
  }
 },
 "nbformat": 4,
 "nbformat_minor": 5
}
